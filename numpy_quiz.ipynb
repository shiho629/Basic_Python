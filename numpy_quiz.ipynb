{
 "cells": [
  {
   "cell_type": "markdown",
   "metadata": {},
   "source": [
    "# Numpyの確認課題"
   ]
  },
  {
   "cell_type": "markdown",
   "metadata": {},
   "source": [
    "## 必要モジュールのインポート\n",
    "\n",
    "この問題で使うモジュールをインポートします．"
   ]
  },
  {
   "cell_type": "code",
   "execution_count": 1,
   "metadata": {},
   "outputs": [],
   "source": [
    "import matplotlib.pyplot as plt\n",
    "import numpy as np\n",
    "\n",
    "np.random.seed(0)"
   ]
  },
  {
   "cell_type": "markdown",
   "metadata": {},
   "source": [
    "---"
   ]
  },
  {
   "cell_type": "markdown",
   "metadata": {},
   "source": [
    "### 問1. `ndarray`の生成\n",
    "\n",
    "以下の2つの`ndarray`を定義しなさい．\n",
    "- 観測値 `x`: 初項`0`，末項`5`，項数`100`の等差数列\n",
    "- ノイズ `noise`: 標準正規分布に従う`100`個の乱数"
   ]
  },
  {
   "cell_type": "code",
   "execution_count": 2,
   "metadata": {},
   "outputs": [],
   "source": [
    "x = np.linspace(0,5,100)\n",
    "noise = np.random.randn(100)"
   ]
  },
  {
   "cell_type": "markdown",
   "metadata": {},
   "source": [
    "---"
   ]
  },
  {
   "cell_type": "markdown",
   "metadata": {},
   "source": [
    "ここで，真の関数 $y(x) = 3 - 5x + x^2$ を定義します．"
   ]
  },
  {
   "cell_type": "code",
   "execution_count": 3,
   "metadata": {},
   "outputs": [],
   "source": [
    "def y(x):\n",
    "    \"\"\"真の関数\"\"\"\n",
    "    return 3 - 5 * x + x ** 2"
   ]
  },
  {
   "cell_type": "markdown",
   "metadata": {},
   "source": [
    "### 問2． `ndarray`の操作\n",
    "\n",
    "問1で生成した観測値 `x` に対応する目標値 `t` を定義しなさい．\n",
    "\n",
    "目標値 $t$ は， $t = y(x) + \\epsilon$ と表されます．  ( $y$: 真の関数, $\\epsilon$: ノイズ )  \n",
    "実際の観測値にはどうしてもノイズ(観測誤差)が発生してしまいます．今回は，それを`noise`で再現します．\n",
    "\n",
    "問1で観測値を100個生成したので，それぞれに対応する目標値も100個作成する必要がありますが， `for` 文は絶対使ってはいけません．"
   ]
  },
  {
   "cell_type": "code",
   "execution_count": 4,
   "metadata": {},
   "outputs": [],
   "source": [
    "t = y(x) + noise"
   ]
  },
  {
   "cell_type": "markdown",
   "metadata": {},
   "source": [
    "matplotlib で可視化すると以下のようなグラフになります．\n",
    "scatter → 散布図"
   ]
  },
  {
   "cell_type": "code",
   "execution_count": 5,
   "metadata": {},
   "outputs": [
    {
     "data": {
      "text/plain": [
       "<matplotlib.collections.PathCollection at 0x28c3ce84590>"
      ]
     },
     "execution_count": 5,
     "metadata": {},
     "output_type": "execute_result"
    },
    {
     "data": {
      "image/png": "[encoded data removed]",
      "text/plain": [
       "<Figure size 640x480 with 1 Axes>"
      ]
     },
     "metadata": {},
     "output_type": "display_data"
    }
   ],
   "source": [
    "plt.scatter(x, t)"
   ]
  },
  {
   "cell_type": "markdown",
   "metadata": {},
   "source": [
    "---"
   ]
  },
  {
   "cell_type": "markdown",
   "metadata": {},
   "source": [
    "### 問3. `ndarray`の結合\n",
    "\n",
    "以下の3つの`ndarray`を垂直方向に結合した2次元配列を転置した行列 `X` を定義しなさい．\n",
    "\n",
    "- x0: 長さが `x` と同じで要素が全て1の`ndarray`\n",
    "- x1: 観測値 `x` の各要素を1乗した`ndarray`\n",
    "- x2: 観測値 `x` の各要素を2乗した`ndarray`\n",
    "\n",
    "例： $x = (1, 2, 3)$ のとき，\n",
    "\n",
    "$$\n",
    "x_0 = (1, 1, 1)\\\\\n",
    "x_1 = (1, 2, 3)\\\\\n",
    "x_2 = (1, 4, 9)\n",
    "$$\n",
    "\n",
    "だから，\n",
    "\n",
    "$$\n",
    "X = \\left(\n",
    "\\begin{array}{ccc}\n",
    "    1 & 1 & 1 \\\\\n",
    "    1 & 2 & 3 \\\\\n",
    "    1 & 4 & 9\n",
    "\\end{array}\n",
    "\\right)^T\n",
    "= \\left(\n",
    "\\begin{array}{ccc}\n",
    "    1 & 1 & 1 \\\\\n",
    "    1 & 2 & 4 \\\\\n",
    "    1 & 3 & 9\n",
    "\\end{array}\n",
    "\\right)\n",
    "$$\n",
    "\n",
    "ちなみに，機械学習では `X` のような行列を計画行列と呼びます．"
   ]
  },
  {
   "cell_type": "code",
   "execution_count": 6,
   "metadata": {},
   "outputs": [
    {
     "data": {
      "text/plain": [
       "array([[1.00000000e+00, 0.00000000e+00, 0.00000000e+00],\n",
       "       [1.00000000e+00, 5.05050505e-02, 2.55076013e-03],\n",
       "       [1.00000000e+00, 1.01010101e-01, 1.02030405e-02],\n",
       "       [1.00000000e+00, 1.51515152e-01, 2.29568411e-02],\n",
       "       [1.00000000e+00, 2.02020202e-01, 4.08121620e-02],\n",
       "       [1.00000000e+00, 2.52525253e-01, 6.37690032e-02],\n",
       "       [1.00000000e+00, 3.03030303e-01, 9.18273646e-02],\n",
       "       [1.00000000e+00, 3.53535354e-01, 1.24987246e-01],\n",
       "       [1.00000000e+00, 4.04040404e-01, 1.63248648e-01],\n",
       "       [1.00000000e+00, 4.54545455e-01, 2.06611570e-01],\n",
       "       [1.00000000e+00, 5.05050505e-01, 2.55076013e-01],\n",
       "       [1.00000000e+00, 5.55555556e-01, 3.08641975e-01],\n",
       "       [1.00000000e+00, 6.06060606e-01, 3.67309458e-01],\n",
       "       [1.00000000e+00, 6.56565657e-01, 4.31078461e-01],\n",
       "       [1.00000000e+00, 7.07070707e-01, 4.99948985e-01],\n",
       "       [1.00000000e+00, 7.57575758e-01, 5.73921028e-01],\n",
       "       [1.00000000e+00, 8.08080808e-01, 6.52994592e-01],\n",
       "       [1.00000000e+00, 8.58585859e-01, 7.37169677e-01],\n",
       "       [1.00000000e+00, 9.09090909e-01, 8.26446281e-01],\n",
       "       [1.00000000e+00, 9.59595960e-01, 9.20824406e-01],\n",
       "       [1.00000000e+00, 1.01010101e+00, 1.02030405e+00],\n",
       "       [1.00000000e+00, 1.06060606e+00, 1.12488522e+00],\n",
       "       [1.00000000e+00, 1.11111111e+00, 1.23456790e+00],\n",
       "       [1.00000000e+00, 1.16161616e+00, 1.34935211e+00],\n",
       "       [1.00000000e+00, 1.21212121e+00, 1.46923783e+00],\n",
       "       [1.00000000e+00, 1.26262626e+00, 1.59422508e+00],\n",
       "       [1.00000000e+00, 1.31313131e+00, 1.72431385e+00],\n",
       "       [1.00000000e+00, 1.36363636e+00, 1.85950413e+00],\n",
       "       [1.00000000e+00, 1.41414141e+00, 1.99979594e+00],\n",
       "       [1.00000000e+00, 1.46464646e+00, 2.14518927e+00],\n",
       "       [1.00000000e+00, 1.51515152e+00, 2.29568411e+00],\n",
       "       [1.00000000e+00, 1.56565657e+00, 2.45128048e+00],\n",
       "       [1.00000000e+00, 1.61616162e+00, 2.61197837e+00],\n",
       "       [1.00000000e+00, 1.66666667e+00, 2.77777778e+00],\n",
       "       [1.00000000e+00, 1.71717172e+00, 2.94867871e+00],\n",
       "       [1.00000000e+00, 1.76767677e+00, 3.12468115e+00],\n",
       "       [1.00000000e+00, 1.81818182e+00, 3.30578512e+00],\n",
       "       [1.00000000e+00, 1.86868687e+00, 3.49199061e+00],\n",
       "       [1.00000000e+00, 1.91919192e+00, 3.68329762e+00],\n",
       "       [1.00000000e+00, 1.96969697e+00, 3.87970615e+00],\n",
       "       [1.00000000e+00, 2.02020202e+00, 4.08121620e+00],\n",
       "       [1.00000000e+00, 2.07070707e+00, 4.28782777e+00],\n",
       "       [1.00000000e+00, 2.12121212e+00, 4.49954086e+00],\n",
       "       [1.00000000e+00, 2.17171717e+00, 4.71635547e+00],\n",
       "       [1.00000000e+00, 2.22222222e+00, 4.93827160e+00],\n",
       "       [1.00000000e+00, 2.27272727e+00, 5.16528926e+00],\n",
       "       [1.00000000e+00, 2.32323232e+00, 5.39740843e+00],\n",
       "       [1.00000000e+00, 2.37373737e+00, 5.63462912e+00],\n",
       "       [1.00000000e+00, 2.42424242e+00, 5.87695133e+00],\n",
       "       [1.00000000e+00, 2.47474747e+00, 6.12437506e+00],\n",
       "       [1.00000000e+00, 2.52525253e+00, 6.37690032e+00],\n",
       "       [1.00000000e+00, 2.57575758e+00, 6.63452709e+00],\n",
       "       [1.00000000e+00, 2.62626263e+00, 6.89725538e+00],\n",
       "       [1.00000000e+00, 2.67676768e+00, 7.16508520e+00],\n",
       "       [1.00000000e+00, 2.72727273e+00, 7.43801653e+00],\n",
       "       [1.00000000e+00, 2.77777778e+00, 7.71604938e+00],\n",
       "       [1.00000000e+00, 2.82828283e+00, 7.99918376e+00],\n",
       "       [1.00000000e+00, 2.87878788e+00, 8.28741965e+00],\n",
       "       [1.00000000e+00, 2.92929293e+00, 8.58075707e+00],\n",
       "       [1.00000000e+00, 2.97979798e+00, 8.87919600e+00],\n",
       "       [1.00000000e+00, 3.03030303e+00, 9.18273646e+00],\n",
       "       [1.00000000e+00, 3.08080808e+00, 9.49137843e+00],\n",
       "       [1.00000000e+00, 3.13131313e+00, 9.80512193e+00],\n",
       "       [1.00000000e+00, 3.18181818e+00, 1.01239669e+01],\n",
       "       [1.00000000e+00, 3.23232323e+00, 1.04479135e+01],\n",
       "       [1.00000000e+00, 3.28282828e+00, 1.07769615e+01],\n",
       "       [1.00000000e+00, 3.33333333e+00, 1.11111111e+01],\n",
       "       [1.00000000e+00, 3.38383838e+00, 1.14503622e+01],\n",
       "       [1.00000000e+00, 3.43434343e+00, 1.17947148e+01],\n",
       "       [1.00000000e+00, 3.48484848e+00, 1.21441690e+01],\n",
       "       [1.00000000e+00, 3.53535354e+00, 1.24987246e+01],\n",
       "       [1.00000000e+00, 3.58585859e+00, 1.28583818e+01],\n",
       "       [1.00000000e+00, 3.63636364e+00, 1.32231405e+01],\n",
       "       [1.00000000e+00, 3.68686869e+00, 1.35930007e+01],\n",
       "       [1.00000000e+00, 3.73737374e+00, 1.39679625e+01],\n",
       "       [1.00000000e+00, 3.78787879e+00, 1.43480257e+01],\n",
       "       [1.00000000e+00, 3.83838384e+00, 1.47331905e+01],\n",
       "       [1.00000000e+00, 3.88888889e+00, 1.51234568e+01],\n",
       "       [1.00000000e+00, 3.93939394e+00, 1.55188246e+01],\n",
       "       [1.00000000e+00, 3.98989899e+00, 1.59192939e+01],\n",
       "       [1.00000000e+00, 4.04040404e+00, 1.63248648e+01],\n",
       "       [1.00000000e+00, 4.09090909e+00, 1.67355372e+01],\n",
       "       [1.00000000e+00, 4.14141414e+00, 1.71513111e+01],\n",
       "       [1.00000000e+00, 4.19191919e+00, 1.75721865e+01],\n",
       "       [1.00000000e+00, 4.24242424e+00, 1.79981635e+01],\n",
       "       [1.00000000e+00, 4.29292929e+00, 1.84292419e+01],\n",
       "       [1.00000000e+00, 4.34343434e+00, 1.88654219e+01],\n",
       "       [1.00000000e+00, 4.39393939e+00, 1.93067034e+01],\n",
       "       [1.00000000e+00, 4.44444444e+00, 1.97530864e+01],\n",
       "       [1.00000000e+00, 4.49494949e+00, 2.02045710e+01],\n",
       "       [1.00000000e+00, 4.54545455e+00, 2.06611570e+01],\n",
       "       [1.00000000e+00, 4.59595960e+00, 2.11228446e+01],\n",
       "       [1.00000000e+00, 4.64646465e+00, 2.15896337e+01],\n",
       "       [1.00000000e+00, 4.69696970e+00, 2.20615243e+01],\n",
       "       [1.00000000e+00, 4.74747475e+00, 2.25385165e+01],\n",
       "       [1.00000000e+00, 4.79797980e+00, 2.30206101e+01],\n",
       "       [1.00000000e+00, 4.84848485e+00, 2.35078053e+01],\n",
       "       [1.00000000e+00, 4.89898990e+00, 2.40001020e+01],\n",
       "       [1.00000000e+00, 4.94949495e+00, 2.44975003e+01],\n",
       "       [1.00000000e+00, 5.00000000e+00, 2.50000000e+01]])"
      ]
     },
     "execution_count": 6,
     "metadata": {},
     "output_type": "execute_result"
    }
   ],
   "source": [
    "X = np.ones((3,len(x)))\n",
    "X[1,] = x\n",
    "X[2,] = x**2\n",
    "X = X.T\n",
    "X"
   ]
  },
  {
   "cell_type": "markdown",
   "metadata": {},
   "source": [
    "---"
   ]
  },
  {
   "cell_type": "markdown",
   "metadata": {},
   "source": [
    "### 問4. 線形代数\n",
    "\n",
    "観測値 `x, t` をもとに真の関数 `y` を2次関数で回帰しなさい．\n",
    "\n",
    "任意の2次関数は $y(x) = w_0 + w_1 x + w_2 x^2$ と表すことができます．  \n",
    "なので，パラメータのベクトル $\\mathbf{w} = (w_0, w_1, w_2)$ を求めれば良いことになります．\n",
    "\n",
    "これは以下の正規方程式から求めることができます．\n",
    "\n",
    "$ \\mathbf{w} = (X^T X)^{-1} X^T \\mathbf{t} $\n",
    "\n",
    "この式の導出はdev_data勉強会で学びます．\n",
    "\n",
    "行列の積が多い場合は`np.dot`を使わない方が簡潔に書けます．"
   ]
  },
  {
   "cell_type": "code",
   "execution_count": 7,
   "metadata": {},
   "outputs": [],
   "source": [
    "w0, w1, w2 = (X.T@X)@X.T@t\n",
    "pred_y = w0 + w1 * x + w2 * x ** 2"
   ]
  },
  {
   "cell_type": "markdown",
   "metadata": {},
   "source": [
    "---"
   ]
  },
  {
   "cell_type": "markdown",
   "metadata": {},
   "source": [
    "### 結果\n",
    "\n",
    "先ほどのグラフに真の関数(緑)と回帰曲線(赤)を重ねると以下のようになります．"
   ]
  },
  {
   "cell_type": "code",
   "execution_count": 8,
   "metadata": {},
   "outputs": [
    {
     "data": {
      "text/plain": [
       "<matplotlib.legend.Legend at 0x28c3ce84ec0>"
      ]
     },
     "execution_count": 8,
     "metadata": {},
     "output_type": "execute_result"
    },
    {
     "data": {
      "image/png": "[encoded data removed]",
      "text/plain": [
       "<Figure size 640x480 with 1 Axes>"
      ]
     },
     "metadata": {},
     "output_type": "display_data"
    }
   ],
   "source": [
    "plt.scatter(x, t)\n",
    "plt.plot(x, pred_y, linewidth=5, color=\"red\", label=\"pred\")\n",
    "plt.plot(x, y(x), linewidth=5, color=\"green\", label=\"true\")\n",
    "plt.legend()"
   ]
  },
  {
   "cell_type": "markdown",
   "metadata": {},
   "source": [
    "今回使った手法は 真の関数 `y` の定義を変更するとその他のコードを全く変更しなくても同様に回帰することができます．\n",
    "\n",
    "例えば以下のように変更したらその関数を回帰します．\n",
    "\n",
    "```python\n",
    "def y(x):\n",
    "    \"\"\"真の関数\"\"\"\n",
    "    return 5 * np.sin(np.pi * x / 5)\n",
    "```\n",
    "dev_data勉強会で詳しくやりますが，この回帰曲線の表現力は2次までです．\n",
    "カーブが2つ以上の曲線を回帰したい場合は問3の計画行列の列数を　`x3, x4...`　のように増やせば表現力が上がります．"
   ]
  },
  {
   "cell_type": "code",
   "execution_count": null,
   "metadata": {},
   "outputs": [],
   "source": []
  }
 ],
 "metadata": {
  "kernelspec": {
   "display_name": "Python 3",
   "language": "python",
   "name": "python3"
  },
  "language_info": {
   "codemirror_mode": {
    "name": "ipython",
    "version": 3
   },
   "file_extension": ".py",
   "mimetype": "text/x-python",
   "name": "python",
   "nbconvert_exporter": "python",
   "pygments_lexer": "ipython3",
   "version": "3.13.1"
  }
 },
 "nbformat": 4,
 "nbformat_minor": 4
}
